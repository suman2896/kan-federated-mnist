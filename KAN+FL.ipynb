{
  "nbformat": 4,
  "nbformat_minor": 0,
  "metadata": {
    "colab": {
      "provenance": [],
      "gpuType": "T4"
    },
    "kernelspec": {
      "name": "python3",
      "display_name": "Python 3"
    },
    "language_info": {
      "name": "python"
    },
    "accelerator": "GPU"
  },
  "cells": [
    {
      "cell_type": "code",
      "execution_count": null,
      "metadata": {
        "id": "v9OtRTqwUEDV"
      },
      "outputs": [],
      "source": [
        "import torch\n",
        "import torch.nn as nn\n",
        "import torch.optim as optim\n",
        "from torchvision import datasets, transforms\n",
        "from torch.utils.data import DataLoader, Subset\n",
        "import matplotlib.pyplot as plt\n",
        "import numpy as np\n",
        "import random"
      ]
    },
    {
      "cell_type": "code",
      "source": [
        "class BSplineActivation(nn.Module):\n",
        "    def __init__(self, num_ctrl_pts=10):\n",
        "        super(BSplineActivation, self).__init__()\n",
        "        self.num_ctrl_pts = num_ctrl_pts\n",
        "        self.ctrl_pts = nn.Parameter(torch.linspace(-1, 1, num_ctrl_pts))\n",
        "        self.coeffs = nn.Parameter(torch.randn(num_ctrl_pts))\n",
        "\n",
        "    def forward(self, x):\n",
        "        x = x.clamp(-1, 1)\n",
        "        idx = ((x + 1) / 2 * (self.num_ctrl_pts - 1)).long().clamp(0, self.num_ctrl_pts - 2)\n",
        "        x0 = self.ctrl_pts[idx]\n",
        "        x1 = self.ctrl_pts[idx + 1]\n",
        "        y0 = self.coeffs[idx]\n",
        "        y1 = self.coeffs[idx + 1]\n",
        "        t = (x - x0) / (x1 - x0 + 1e-8)\n",
        "        return (1 - t) * y0 + t * y1"
      ],
      "metadata": {
        "id": "Le4iGfQiY8qy"
      },
      "execution_count": null,
      "outputs": []
    },
    {
      "cell_type": "code",
      "source": [
        "class SimpleKAN(nn.Module):\n",
        "    def __init__(self, input_dim=784, hidden_dim=64, output_dim=10):\n",
        "        super(SimpleKAN, self).__init__()\n",
        "        self.hidden = nn.Linear(input_dim, hidden_dim)\n",
        "        self.spline = BSplineActivation()\n",
        "        self.output = nn.Linear(hidden_dim, output_dim)\n",
        "\n",
        "    def forward(self, x):\n",
        "        x = x.view(-1, 784)\n",
        "        x = self.hidden(x)\n",
        "        x = self.spline(x)\n",
        "        x = self.output(x)\n",
        "        return x"
      ],
      "metadata": {
        "id": "SmSzEc7BZKJ1"
      },
      "execution_count": null,
      "outputs": []
    },
    {
      "cell_type": "code",
      "source": [
        "def get_non_iid_partition(dataset, num_clients=5):\n",
        "    labels = np.array(dataset.targets)\n",
        "    indices = [[] for _ in range(num_clients)]\n",
        "    for i in range(10):\n",
        "        i_indices = np.where(labels == i)[0]\n",
        "        np.random.shuffle(i_indices)\n",
        "        for j in range(num_clients):\n",
        "            if i % num_clients == j:\n",
        "                indices[j].extend(i_indices[:len(i_indices)//2])\n",
        "    client_loaders = []\n",
        "    for i in range(num_clients):\n",
        "        subset = Subset(dataset, indices[i])\n",
        "        loader = DataLoader(subset, batch_size=32, shuffle=True)\n",
        "        client_loaders.append(loader)\n",
        "    return client_loaders"
      ],
      "metadata": {
        "id": "we0ahp5yZQ8B"
      },
      "execution_count": null,
      "outputs": []
    },
    {
      "cell_type": "code",
      "source": [
        "def train_local(model, dataloader, criterion, optimizer, device):\n",
        "    model.train()\n",
        "    total_loss, correct, total = 0, 0, 0\n",
        "    for data, target in dataloader:\n",
        "        data, target = data.to(device), target.to(device)\n",
        "        optimizer.zero_grad()\n",
        "        output = model(data)\n",
        "        loss = criterion(output, target)\n",
        "        loss.backward()\n",
        "        optimizer.step()\n",
        "\n",
        "        total_loss += loss.item() * data.size(0)\n",
        "        pred = output.argmax(dim=1)\n",
        "        correct += pred.eq(target).sum().item()\n",
        "        total += data.size(0)\n",
        "    return total_loss / total, correct / total"
      ],
      "metadata": {
        "id": "E2Pl83PKZVzC"
      },
      "execution_count": null,
      "outputs": []
    },
    {
      "cell_type": "code",
      "source": [
        "def federated_train(global_model, client_loaders, device, rounds=10):\n",
        "    criterion = nn.CrossEntropyLoss()\n",
        "    train_loss, train_acc = [], []\n",
        "\n",
        "    for r in range(rounds):\n",
        "        local_models = []\n",
        "        local_losses, local_accs = [], []\n",
        "        for loader in client_loaders:\n",
        "            model = SimpleKAN().to(device)\n",
        "            model.load_state_dict(global_model.state_dict())\n",
        "            optimizer = optim.SGD(model.parameters(), lr=0.01)\n",
        "            loss, acc = train_local(model, loader, criterion, optimizer, device)\n",
        "            local_models.append(model.state_dict())\n",
        "            local_losses.append(loss)\n",
        "            local_accs.append(acc)\n",
        "\n",
        "        # FedAvg\n",
        "        new_state = global_model.state_dict()\n",
        "        for key in new_state.keys():\n",
        "            new_state[key] = torch.stack([m[key].float() for m in local_models], 0).mean(0)\n",
        "        global_model.load_state_dict(new_state)\n",
        "\n",
        "        avg_loss = np.mean(local_losses)\n",
        "        avg_acc = np.mean(local_accs)\n",
        "        train_loss.append(avg_loss)\n",
        "        train_acc.append(avg_acc)\n",
        "        print(f\"Round {r+1}: Loss={avg_loss:.4f}, Accuracy={avg_acc*100:.2f}%\")\n",
        "\n",
        "    return train_loss, train_acc"
      ],
      "metadata": {
        "id": "o5ZC6cGVZcoO"
      },
      "execution_count": null,
      "outputs": []
    },
    {
      "cell_type": "code",
      "source": [
        "def evaluate(model, dataloader, device):\n",
        "    model.eval()\n",
        "    correct = 0\n",
        "    total = 0\n",
        "    with torch.no_grad():\n",
        "        for data, target in dataloader:\n",
        "            data, target = data.to(device), target.to(device)\n",
        "            output = model(data)\n",
        "            pred = output.argmax(dim=1)\n",
        "            correct += pred.eq(target).sum().item()\n",
        "            total += data.size(0)\n",
        "    return correct / total"
      ],
      "metadata": {
        "id": "jHo7od9PZh5G"
      },
      "execution_count": null,
      "outputs": []
    },
    {
      "cell_type": "code",
      "source": [
        "def test_with_image(model, test_loader, device):\n",
        "    import random\n",
        "    model.eval()\n",
        "    images, labels = next(iter(test_loader))\n",
        "    idx = random.randint(0, len(images)-1)\n",
        "    img = images[idx].to(device)\n",
        "    label = labels[idx].item()\n",
        "\n",
        "    with torch.no_grad():\n",
        "        output = model(img.unsqueeze(0))\n",
        "        pred = output.argmax(dim=1).item()\n",
        "\n",
        "    plt.imshow(img.cpu().squeeze(), cmap='gray')\n",
        "    plt.title(f\"Predicted: {pred}, True: {label}\")\n",
        "    plt.axis('off')\n",
        "    plt.show()"
      ],
      "metadata": {
        "id": "oeMT9RSXZxsm"
      },
      "execution_count": null,
      "outputs": []
    },
    {
      "cell_type": "code",
      "source": [
        "device = torch.device(\"cuda\" if torch.cuda.is_available() else \"cpu\")\n",
        "transform = transforms.Compose([transforms.ToTensor()])\n",
        "train_data = datasets.MNIST(root=\"./data\", train=True, download=True, transform=transform)\n",
        "test_data = datasets.MNIST(root=\"./data\", train=False, download=True, transform=transform)\n",
        "test_loader = DataLoader(test_data, batch_size=64, shuffle=False)\n",
        "\n",
        "client_loaders = get_non_iid_partition(train_data, num_clients=5)\n",
        "global_model = SimpleKAN().to(device)\n",
        "\n",
        "print(\"\\nStarting Federated Training...\\n\")\n",
        "losses, accs = federated_train(global_model, client_loaders, device, rounds=50)\n",
        "\n",
        "print(\"\\nEvaluating on Test Data...\")\n",
        "test_acc = evaluate(global_model, test_loader, device)\n",
        "print(f\"Test Accuracy: {test_acc * 100:.2f}%\")\n",
        "\n",
        "plt.figure(figsize=(10,4))\n",
        "plt.subplot(1, 2, 1)\n",
        "plt.plot(losses, label='Loss')\n",
        "plt.title(\"Training Loss per Round\")\n",
        "plt.xlabel(\"Round\")\n",
        "plt.ylabel(\"Loss\")\n",
        "plt.legend()\n",
        "\n",
        "plt.subplot(1, 2, 2)\n",
        "plt.plot(accs, label='Accuracy')\n",
        "plt.title(\"Training Accuracy per Round\")\n",
        "plt.xlabel(\"Round\")\n",
        "plt.ylabel(\"Accuracy\")\n",
        "plt.legend()\n",
        "plt.tight_layout()\n",
        "plt.show()"
      ],
      "metadata": {
        "colab": {
          "base_uri": "https://localhost:8080/",
          "height": 1000
        },
        "id": "RxHJq_kZZ18_",
        "outputId": "53c8b071-c4cc-418d-b1bf-7388d802a144"
      },
      "execution_count": null,
      "outputs": [
        {
          "metadata": {
            "tags": null
          },
          "name": "stderr",
          "output_type": "stream",
          "text": [
            "100%|██████████| 9.91M/9.91M [00:01<00:00, 5.07MB/s]\n",
            "100%|██████████| 28.9k/28.9k [00:00<00:00, 135kB/s]\n",
            "100%|██████████| 1.65M/1.65M [00:01<00:00, 1.28MB/s]\n",
            "100%|██████████| 4.54k/4.54k [00:00<00:00, 12.1MB/s]\n"
          ]
        },
        {
          "output_type": "stream",
          "name": "stdout",
          "text": [
            "\n",
            "Starting Federated Training...\n",
            "\n",
            "Round 1: Loss=0.3073, Accuracy=93.07%\n",
            "Round 2: Loss=0.4844, Accuracy=84.66%\n",
            "Round 3: Loss=0.5948, Accuracy=73.54%\n",
            "Round 4: Loss=0.5718, Accuracy=74.62%\n",
            "Round 5: Loss=0.3944, Accuracy=83.97%\n",
            "Round 6: Loss=0.7920, Accuracy=89.62%\n",
            "Round 7: Loss=0.5804, Accuracy=82.58%\n",
            "Round 8: Loss=0.4876, Accuracy=86.92%\n",
            "Round 9: Loss=0.4241, Accuracy=88.94%\n",
            "Round 10: Loss=0.3757, Accuracy=90.08%\n",
            "Round 11: Loss=0.3365, Accuracy=91.02%\n",
            "Round 12: Loss=0.3049, Accuracy=91.71%\n",
            "Round 13: Loss=0.2795, Accuracy=92.15%\n",
            "Round 14: Loss=0.2594, Accuracy=92.69%\n",
            "Round 15: Loss=0.2434, Accuracy=92.90%\n",
            "Round 16: Loss=0.2296, Accuracy=93.20%\n",
            "Round 17: Loss=0.2177, Accuracy=93.65%\n",
            "Round 18: Loss=0.2083, Accuracy=93.77%\n",
            "Round 19: Loss=0.2005, Accuracy=93.90%\n",
            "Round 20: Loss=0.1933, Accuracy=94.08%\n",
            "Round 21: Loss=0.1876, Accuracy=94.25%\n",
            "Round 22: Loss=0.1818, Accuracy=94.45%\n",
            "Round 23: Loss=0.1768, Accuracy=94.62%\n",
            "Round 24: Loss=0.1723, Accuracy=94.59%\n",
            "Round 25: Loss=0.1686, Accuracy=94.76%\n",
            "Round 26: Loss=0.1650, Accuracy=94.93%\n",
            "Round 27: Loss=0.1624, Accuracy=94.86%\n",
            "Round 28: Loss=0.1592, Accuracy=94.92%\n",
            "Round 29: Loss=0.1561, Accuracy=95.01%\n",
            "Round 30: Loss=0.1541, Accuracy=95.11%\n",
            "Round 31: Loss=0.1510, Accuracy=95.31%\n",
            "Round 32: Loss=0.1487, Accuracy=95.31%\n",
            "Round 33: Loss=0.1471, Accuracy=95.27%\n",
            "Round 34: Loss=0.1454, Accuracy=95.45%\n",
            "Round 35: Loss=0.1427, Accuracy=95.41%\n",
            "Round 36: Loss=0.1410, Accuracy=95.51%\n",
            "Round 37: Loss=0.1392, Accuracy=95.57%\n",
            "Round 38: Loss=0.1366, Accuracy=95.64%\n",
            "Round 39: Loss=0.1359, Accuracy=95.62%\n",
            "Round 40: Loss=0.1335, Accuracy=95.81%\n",
            "Round 41: Loss=0.1321, Accuracy=95.76%\n",
            "Round 42: Loss=0.1301, Accuracy=95.85%\n",
            "Round 43: Loss=0.1294, Accuracy=95.81%\n",
            "Round 44: Loss=0.1280, Accuracy=95.95%\n",
            "Round 45: Loss=0.1260, Accuracy=95.92%\n",
            "Round 46: Loss=0.1241, Accuracy=95.96%\n",
            "Round 47: Loss=0.1236, Accuracy=95.98%\n",
            "Round 48: Loss=0.1216, Accuracy=96.17%\n",
            "Round 49: Loss=0.1209, Accuracy=96.07%\n",
            "Round 50: Loss=0.1199, Accuracy=96.24%\n",
            "\n",
            "Evaluating on Test Data...\n",
            "Test Accuracy: 72.98%\n"
          ]
        },
        {
          "output_type": "display_data",
          "data": {
            "text/plain": [
              "<Figure size 1000x400 with 2 Axes>"
            ],
            "image/png": "[encoded data removed]"
          },
          "metadata": {}
        }
      ]
    },
    {
      "cell_type": "code",
      "source": [
        "test_with_image(global_model, test_loader, device)"
      ],
      "metadata": {
        "colab": {
          "base_uri": "https://localhost:8080/",
          "height": 428
        },
        "id": "gNY6ThQuaBoI",
        "outputId": "d38b8b39-7e55-49a8-fe68-9dd564e2eb0c"
      },
      "execution_count": null,
      "outputs": [
        {
          "output_type": "display_data",
          "data": {
            "text/plain": [
              "<Figure size 640x480 with 1 Axes>"
            ],
            "image/png": "[encoded data removed]"
          },
          "metadata": {}
        }
      ]
    },
    {
      "cell_type": "code",
      "source": [],
      "metadata": {
        "id": "rCSO6w7aaYc3"
      },
      "execution_count": null,
      "outputs": []
    }
  ]
}